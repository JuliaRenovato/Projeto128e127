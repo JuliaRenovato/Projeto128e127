{
  "nbformat": 4,
  "nbformat_minor": 0,
  "metadata": {
    "colab": {
      "provenance": [],
      "authorship_tag": "ABX9TyNWRguCQhFHIypr9uCstgzW",
      "include_colab_link": true
    },
    "kernelspec": {
      "name": "python3",
      "display_name": "Python 3"
    },
    "language_info": {
      "name": "python"
    }
  },
  "cells": [
    {
      "cell_type": "markdown",
      "metadata": {
        "id": "view-in-github",
        "colab_type": "text"
      },
      "source": [
        "<a href=\"https://colab.research.google.com/github/JuliaRenovato/Projeto128e127/blob/main/Projeto_130.ipynb\" target=\"_parent\"><img src=\"https://colab.research.google.com/assets/colab-badge.svg\" alt=\"Open In Colab\"/></a>"
      ]
    },
    {
      "cell_type": "code",
      "execution_count": null,
      "metadata": {
        "colab": {
          "base_uri": "https://localhost:8080/"
        },
        "id": "rYsHlK2QRW4z",
        "outputId": "03188403-7c51-4d18-e189-e2081f684265"
      },
      "outputs": [
        {
          "output_type": "stream",
          "name": "stdout",
          "text": [
            "Cloning into 'PRO_1-1_C129_StarsDatasetCSVs'...\n",
            "remote: Enumerating objects: 12, done.\u001b[K\n",
            "remote: Counting objects: 100% (12/12), done.\u001b[K\n",
            "remote: Compressing objects: 100% (7/7), done.\u001b[K\n",
            "remote: Total 12 (delta 4), reused 12 (delta 4), pack-reused 0\u001b[K\n",
            "Receiving objects: 100% (12/12), 23.62 KiB | 403.00 KiB/s, done.\n",
            "Resolving deltas: 100% (4/4), done.\n"
          ]
        }
      ],
      "source": [
        "!git clone https://github.com/ByjusBrazil/PRO_1-1_C129_StarsDatasetCSVs"
      ]
    },
    {
      "cell_type": "code",
      "source": [
        "import pandas as pd"
      ],
      "metadata": {
        "id": "JmvIluU5RfT4"
      },
      "execution_count": null,
      "outputs": []
    },
    {
      "cell_type": "code",
      "source": [
        "df = pd.read_csv('/content/PRO_1-1_C129_StarsDatasetCSVs/total_stars.csv')\n",
        "print(df)"
      ],
      "metadata": {
        "colab": {
          "base_uri": "https://localhost:8080/"
        },
        "id": "rx7xYr26Rq47",
        "outputId": "905721a0-13d8-4572-87a8-3f736a7ca41b"
      },
      "execution_count": null,
      "outputs": [
        {
          "output_type": "stream",
          "name": "stdout",
          "text": [
            "     Unnamed: 0               Star_name     Distance                  Mass  \\\n",
            "0             0                     Sun  0.000015813                     1   \n",
            "1             1                  Sirius       0008.6                   2.1   \n",
            "2             2                 Canopus         0310                    15   \n",
            "3             3          Alpha Centauri       0004.4                   1.1   \n",
            "4             4                Arcturus         0037                   1.1   \n",
            "..          ...                     ...          ...                   ...   \n",
            "249         153  2MASSI J2356547-155310         74.0            0.07636704   \n",
            "250         154          WISE 0410+1502         20.0           0.005727528   \n",
            "251         155         WISE 0458+6434A         35.9  0.014318820000000001   \n",
            "252         156         WISE 0458+6434B         35.9            0.00954588   \n",
            "253         157          WISE 1405+5534         25.3  0.028637640000000002   \n",
            "\n",
            "                  Radius Luminosity  Unnamed: 6  Star_name.1  Distance.1  \\\n",
            "0                      1          1         NaN          NaN         NaN   \n",
            "1                  1.71´       25.4         NaN          NaN         NaN   \n",
            "2                     71     13,500         NaN          NaN         NaN   \n",
            "3                    1.2          2         NaN          NaN         NaN   \n",
            "4                     26        170         NaN          NaN         NaN   \n",
            "..                   ...        ...         ...          ...         ...   \n",
            "249  0.11201167000000001        NaN         NaN          NaN         NaN   \n",
            "250  0.12023270999999998        NaN         NaN          NaN         NaN   \n",
            "251            0.4316046        NaN         NaN          NaN         NaN   \n",
            "252  0.39049939999999994        NaN         NaN          NaN         NaN   \n",
            "253           0.08837618        NaN         NaN          NaN         NaN   \n",
            "\n",
            "     Mass.1  Radius.1  \n",
            "0       NaN       NaN  \n",
            "1       NaN       NaN  \n",
            "2       NaN       NaN  \n",
            "3       NaN       NaN  \n",
            "4       NaN       NaN  \n",
            "..      ...       ...  \n",
            "249     NaN       NaN  \n",
            "250     NaN       NaN  \n",
            "251     NaN       NaN  \n",
            "252     NaN       NaN  \n",
            "253     NaN       NaN  \n",
            "\n",
            "[254 rows x 11 columns]\n"
          ]
        }
      ]
    },
    {
      "cell_type": "code",
      "source": [
        "df.columns"
      ],
      "metadata": {
        "colab": {
          "base_uri": "https://localhost:8080/"
        },
        "id": "ZML1JnXNSEan",
        "outputId": "6c3e4c59-084d-4b59-8552-96d1e22f3783"
      },
      "execution_count": null,
      "outputs": [
        {
          "output_type": "execute_result",
          "data": {
            "text/plain": [
              "Index(['Unnamed: 0', 'Star_name', 'Distance', 'Mass', 'Radius', 'Luminosity',\n",
              "       'Unnamed: 6', 'Star_name.1', 'Distance.1', 'Mass.1', 'Radius.1'],\n",
              "      dtype='object')"
            ]
          },
          "metadata": {},
          "execution_count": 6
        }
      ]
    },
    {
      "cell_type": "code",
      "source": [
        "df.drop(['Luminosity', 'Unnamed: 0', 'Unnamed: 6', 'Star_name.1', 'Distance.1', 'Mass.1', 'Radius.1' ], axis=1, inplace = True)"
      ],
      "metadata": {
        "id": "bI-SF-SJSeEW"
      },
      "execution_count": null,
      "outputs": []
    },
    {
      "cell_type": "code",
      "source": [
        "print(df)"
      ],
      "metadata": {
        "colab": {
          "base_uri": "https://localhost:8080/"
        },
        "id": "xKhuY_G7Tquf",
        "outputId": "31c6a547-20d0-4470-d607-3bcb4c8f576f"
      },
      "execution_count": null,
      "outputs": [
        {
          "output_type": "stream",
          "name": "stdout",
          "text": [
            "                  Star_name     Distance                  Mass  \\\n",
            "0                       Sun  0.000015813                     1   \n",
            "1                    Sirius       0008.6                   2.1   \n",
            "2                   Canopus         0310                    15   \n",
            "3            Alpha Centauri       0004.4                   1.1   \n",
            "4                  Arcturus         0037                   1.1   \n",
            "..                      ...          ...                   ...   \n",
            "249  2MASSI J2356547-155310         74.0            0.07636704   \n",
            "250          WISE 0410+1502         20.0           0.005727528   \n",
            "251         WISE 0458+6434A         35.9  0.014318820000000001   \n",
            "252         WISE 0458+6434B         35.9            0.00954588   \n",
            "253          WISE 1405+5534         25.3  0.028637640000000002   \n",
            "\n",
            "                  Radius  \n",
            "0                      1  \n",
            "1                  1.71´  \n",
            "2                     71  \n",
            "3                    1.2  \n",
            "4                     26  \n",
            "..                   ...  \n",
            "249  0.11201167000000001  \n",
            "250  0.12023270999999998  \n",
            "251            0.4316046  \n",
            "252  0.39049939999999994  \n",
            "253           0.08837618  \n",
            "\n",
            "[254 rows x 4 columns]\n"
          ]
        }
      ]
    },
    {
      "cell_type": "code",
      "source": [
        "df.describe()\n",
        "df.info()\n",
        "df.dtypes"
      ],
      "metadata": {
        "colab": {
          "base_uri": "https://localhost:8080/"
        },
        "id": "yVfjF5oyUJdb",
        "outputId": "f7b505f6-b78f-48cb-fe3e-daeeda0b957e"
      },
      "execution_count": null,
      "outputs": [
        {
          "output_type": "stream",
          "name": "stdout",
          "text": [
            "<class 'pandas.core.frame.DataFrame'>\n",
            "RangeIndex: 254 entries, 0 to 253\n",
            "Data columns (total 4 columns):\n",
            " #   Column     Non-Null Count  Dtype \n",
            "---  ------     --------------  ----- \n",
            " 0   Star_name  254 non-null    object\n",
            " 1   Distance   254 non-null    object\n",
            " 2   Mass       253 non-null    object\n",
            " 3   Radius     254 non-null    object\n",
            "dtypes: object(4)\n",
            "memory usage: 8.1+ KB\n"
          ]
        },
        {
          "output_type": "execute_result",
          "data": {
            "text/plain": [
              "Star_name    object\n",
              "Distance     object\n",
              "Mass         object\n",
              "Radius       object\n",
              "dtype: object"
            ]
          },
          "metadata": {},
          "execution_count": 15
        }
      ]
    },
    {
      "cell_type": "code",
      "source": [
        "df.to_csv('final_data.csv')"
      ],
      "metadata": {
        "id": "YDWzegE2UZOP"
      },
      "execution_count": null,
      "outputs": []
    },
    {
      "cell_type": "code",
      "source": [
        "from google.colab import files\n",
        "files.download('final_data.csv')"
      ],
      "metadata": {
        "colab": {
          "base_uri": "https://localhost:8080/",
          "height": 17
        },
        "id": "_e2en-6DUmG9",
        "outputId": "0a1f3e03-e85c-46b8-d12b-8a758d24cfbe"
      },
      "execution_count": null,
      "outputs": [
        {
          "output_type": "display_data",
          "data": {
            "text/plain": [
              "<IPython.core.display.Javascript object>"
            ],
            "application/javascript": [
              "\n",
              "    async function download(id, filename, size) {\n",
              "      if (!google.colab.kernel.accessAllowed) {\n",
              "        return;\n",
              "      }\n",
              "      const div = document.createElement('div');\n",
              "      const label = document.createElement('label');\n",
              "      label.textContent = `Downloading \"${filename}\": `;\n",
              "      div.appendChild(label);\n",
              "      const progress = document.createElement('progress');\n",
              "      progress.max = size;\n",
              "      div.appendChild(progress);\n",
              "      document.body.appendChild(div);\n",
              "\n",
              "      const buffers = [];\n",
              "      let downloaded = 0;\n",
              "\n",
              "      const channel = await google.colab.kernel.comms.open(id);\n",
              "      // Send a message to notify the kernel that we're ready.\n",
              "      channel.send({})\n",
              "\n",
              "      for await (const message of channel.messages) {\n",
              "        // Send a message to notify the kernel that we're ready.\n",
              "        channel.send({})\n",
              "        if (message.buffers) {\n",
              "          for (const buffer of message.buffers) {\n",
              "            buffers.push(buffer);\n",
              "            downloaded += buffer.byteLength;\n",
              "            progress.value = downloaded;\n",
              "          }\n",
              "        }\n",
              "      }\n",
              "      const blob = new Blob(buffers, {type: 'application/binary'});\n",
              "      const a = document.createElement('a');\n",
              "      a.href = window.URL.createObjectURL(blob);\n",
              "      a.download = filename;\n",
              "      div.appendChild(a);\n",
              "      a.click();\n",
              "      div.remove();\n",
              "    }\n",
              "  "
            ]
          },
          "metadata": {}
        },
        {
          "output_type": "display_data",
          "data": {
            "text/plain": [
              "<IPython.core.display.Javascript object>"
            ],
            "application/javascript": [
              "download(\"download_a98f59c8-8794-4eea-9be8-d4eff78aab64\", \"final_data.csv\", 12719)"
            ]
          },
          "metadata": {}
        }
      ]
    }
  ]
}